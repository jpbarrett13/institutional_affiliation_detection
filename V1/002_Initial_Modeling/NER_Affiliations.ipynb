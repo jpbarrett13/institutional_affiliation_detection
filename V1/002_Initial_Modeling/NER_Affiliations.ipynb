{
 "cells": [
  {
   "cell_type": "code",
   "execution_count": 1,
   "id": "efc67f40",
   "metadata": {},
   "outputs": [],
   "source": [
    "import pickle\n",
    "import json\n",
    "import redshift_connector\n",
    "import pandas as pd\n",
    "pd.set_option(\"display.max_colwidth\", None)\n",
    "import numpy as np\n",
    "\n",
    "from collections import Counter\n",
    "from math import ceil\n",
    "from langdetect import detect"
   ]
  },
  {
   "cell_type": "code",
   "execution_count": 2,
   "id": "20c66a05",
   "metadata": {},
   "outputs": [],
   "source": [
    "# !pip install redshift-connector\n",
    "# !pip install pandas\n",
    "# !pip install matplotlib\n",
    "# !pip install pyarrow"
   ]
  },
  {
   "cell_type": "code",
   "execution_count": 3,
   "id": "0716e917",
   "metadata": {},
   "outputs": [],
   "source": [
    "with open(\"redshift_creds.txt\", \"r\") as f:\n",
    "    host = f.readline()[:-1]\n",
    "    password= f.readline()[:-1]"
   ]
  },
  {
   "cell_type": "code",
   "execution_count": 4,
   "id": "cf667c42",
   "metadata": {},
   "outputs": [],
   "source": [
    "conn = redshift_connector.connect(\n",
    "     host=host,\n",
    "     database='dev',\n",
    "     user='app_user',\n",
    "     password=password\n",
    "  )"
   ]
  },
  {
   "cell_type": "code",
   "execution_count": 16,
   "id": "be2882c7",
   "metadata": {},
   "outputs": [],
   "source": [
    "# conn.close()"
   ]
  },
  {
   "cell_type": "code",
   "execution_count": 6,
   "id": "ca397e6c",
   "metadata": {},
   "outputs": [],
   "source": [
    "cursor = conn.cursor()"
   ]
  },
  {
   "cell_type": "markdown",
   "id": "c9d92641",
   "metadata": {},
   "source": [
    "## Notes"
   ]
  },
  {
   "cell_type": "markdown",
   "id": "8cf92728",
   "metadata": {},
   "source": [
    "### Random Thoughts/Observations"
   ]
  },
  {
   "cell_type": "markdown",
   "id": "dcaf3c65",
   "metadata": {},
   "source": [
    "* \"mag_normalized_name\" seems to be null for all entries in mid.institutions\n",
    "* will a fine-tuned model be able to pick up on different languages\n",
    "* should language be an input to the model\n",
    "* can I use all variations of institution names to augment the training data?\n",
    "* could use cities/states in the title to map to a country\n",
    "* will need to have 2 paths: one for when name matches exact to a current normalized institution and one for when there is not an exact match\n",
    "* need to go back in time or remove a certain % of the institutions from the master institution table in order to simulate the addition of an institution (need the model to be able to choose when to add vs normalize)\n",
    "* can we use all institutions in a paper to perform entity resolution (in the case there are 3 institutions and country is not available for 1 out of 3, for example)\n",
    "* can authors be included as well?"
   ]
  },
  {
   "cell_type": "markdown",
   "id": "fabd7360",
   "metadata": {},
   "source": [
    "### Modeling Process"
   ]
  },
  {
   "cell_type": "markdown",
   "id": "a479f445",
   "metadata": {},
   "source": [
    "1. Start with NER to identify part of string that is the institution\n",
    "2. Get language from string to assist with naming the country (country from string if available and language can be features to the entity resolution model)\n",
    "3. Take the string and perform some type of entity resolution (using inst. part of string as well as any geo locators)\n",
    "    * would only need to grab a country in order to distinguish between like named institutions in different countries, hopefully)"
   ]
  },
  {
   "cell_type": "markdown",
   "id": "011499ed",
   "metadata": {},
   "source": [
    "### Affiliations to Check with New Model"
   ]
  },
  {
   "cell_type": "markdown",
   "id": "825df8c8",
   "metadata": {},
   "source": [
    "* 1281735042, 1320721754"
   ]
  },
  {
   "cell_type": "code",
   "execution_count": null,
   "id": "2181efd2",
   "metadata": {},
   "outputs": [],
   "source": []
  },
  {
   "cell_type": "markdown",
   "id": "f58c7c9a",
   "metadata": {},
   "source": [
    "#### Institutions"
   ]
  },
  {
   "cell_type": "code",
   "execution_count": 135,
   "id": "7ccb5dcd",
   "metadata": {},
   "outputs": [],
   "source": [
    "query = \"\"\"select count(*)\n",
    "           from mid.institution\"\"\""
   ]
  },
  {
   "cell_type": "code",
   "execution_count": 136,
   "id": "9fde03a9",
   "metadata": {},
   "outputs": [
    {
     "name": "stdout",
     "output_type": "stream",
     "text": [
      "([108660],)\n"
     ]
    }
   ],
   "source": [
    "cursor.execute(\"ROLLBACK;\")\n",
    "cursor.execute(query)\n",
    "counts = cursor.fetchall()\n",
    "print(counts)"
   ]
  },
  {
   "cell_type": "code",
   "execution_count": 88,
   "id": "bec9306d",
   "metadata": {},
   "outputs": [],
   "source": [
    "query = \"\"\"select *\n",
    "           from mid.institution \n",
    "           limit 5\"\"\""
   ]
  },
  {
   "cell_type": "code",
   "execution_count": 89,
   "id": "f3c37e2c",
   "metadata": {},
   "outputs": [
    {
     "data": {
      "text/plain": [
       "Index(['rank', 'mag_normalized_name', 'display_name', 'official_page',\n",
       "       'wiki_page', 'paper_count', 'paper_family_count', 'citation_count',\n",
       "       'iso3166_code', 'latitude', 'longitude', 'created_date',\n",
       "       'affiliation_id', 'normalized_name', 'grid_id', 'updated_date',\n",
       "       'ror_id', 'match_name', 'wikidata_id', 'wikipedia_json',\n",
       "       'wikidata_json', 'merge_into_affiliation_id', 'city', 'region',\n",
       "       'country', 'geonames_city_id'],\n",
       "      dtype='object')"
      ]
     },
     "execution_count": 89,
     "metadata": {},
     "output_type": "execute_result"
    }
   ],
   "source": [
    "cursor.execute(\"ROLLBACK;\")\n",
    "cursor.execute(query)\n",
    "inst = cursor.fetch_dataframe()\n",
    "inst.columns"
   ]
  },
  {
   "cell_type": "code",
   "execution_count": 104,
   "id": "bba87010",
   "metadata": {},
   "outputs": [],
   "source": [
    "query = \"\"\"select affiliation_id, normalized_name, display_name, match_name, ror_id, city, \n",
    "                  region, country, geonames_city_id\n",
    "           from mid.institution \n",
    "           order by RANDOM()\n",
    "           limit 1000\"\"\""
   ]
  },
  {
   "cell_type": "code",
   "execution_count": 105,
   "id": "33fa4478",
   "metadata": {},
   "outputs": [
    {
     "data": {
      "text/plain": [
       "(1000, 9)"
      ]
     },
     "execution_count": 105,
     "metadata": {},
     "output_type": "execute_result"
    }
   ],
   "source": [
    "cursor.execute(\"ROLLBACK;\")\n",
    "cursor.execute(query)\n",
    "inst = cursor.fetch_dataframe()\n",
    "inst['match_name'] = inst['match_name'] \\\n",
    "    .str.wrap(30).str.replace(\"\\n\", \" \")\n",
    "inst.shape"
   ]
  },
  {
   "cell_type": "code",
   "execution_count": 107,
   "id": "a9502e8d",
   "metadata": {},
   "outputs": [
    {
     "data": {
      "text/html": [
       "<div>\n",
       "<style scoped>\n",
       "    .dataframe tbody tr th:only-of-type {\n",
       "        vertical-align: middle;\n",
       "    }\n",
       "\n",
       "    .dataframe tbody tr th {\n",
       "        vertical-align: top;\n",
       "    }\n",
       "\n",
       "    .dataframe thead th {\n",
       "        text-align: right;\n",
       "    }\n",
       "</style>\n",
       "<table border=\"1\" class=\"dataframe\">\n",
       "  <thead>\n",
       "    <tr style=\"text-align: right;\">\n",
       "      <th></th>\n",
       "      <th>affiliation_id</th>\n",
       "      <th>normalized_name</th>\n",
       "      <th>display_name</th>\n",
       "      <th>match_name</th>\n",
       "      <th>ror_id</th>\n",
       "      <th>city</th>\n",
       "      <th>region</th>\n",
       "      <th>country</th>\n",
       "      <th>geonames_city_id</th>\n",
       "    </tr>\n",
       "  </thead>\n",
       "  <tbody>\n",
       "    <tr>\n",
       "      <th>887</th>\n",
       "      <td>4210088821</td>\n",
       "      <td>the milton h erickson foundation</td>\n",
       "      <td>The Milton H. Erickson Foundation</td>\n",
       "      <td>themiltonhericksonfoundation</td>\n",
       "      <td>006gcvq32</td>\n",
       "      <td>Phoenix</td>\n",
       "      <td>Arizona</td>\n",
       "      <td>United States</td>\n",
       "      <td>5308655</td>\n",
       "    </tr>\n",
       "    <tr>\n",
       "      <th>97</th>\n",
       "      <td>4210123785</td>\n",
       "      <td>australian society for medical research</td>\n",
       "      <td>Australian Society for Medical Research</td>\n",
       "      <td>australiansocietyformedicalres earch</td>\n",
       "      <td>023sa9n23</td>\n",
       "      <td>Sydney</td>\n",
       "      <td>New South Wales</td>\n",
       "      <td>Australia</td>\n",
       "      <td>2147714</td>\n",
       "    </tr>\n",
       "    <tr>\n",
       "      <th>342</th>\n",
       "      <td>4210111689</td>\n",
       "      <td>lega italiana protezione uccelli</td>\n",
       "      <td>Lega Italiana Protezione Uccelli</td>\n",
       "      <td>legaitalianaprotezioneuccelli</td>\n",
       "      <td>01prxxc82</td>\n",
       "      <td>Parma</td>\n",
       "      <td>None</td>\n",
       "      <td>Italy</td>\n",
       "      <td>3171457</td>\n",
       "    </tr>\n",
       "    <tr>\n",
       "      <th>897</th>\n",
       "      <td>4210147971</td>\n",
       "      <td>arnavutky devlet hastanesi</td>\n",
       "      <td>Arnavutköy Devlet Hastanesi</td>\n",
       "      <td>arnavutkoydevlethastanesi</td>\n",
       "      <td>03wewq802</td>\n",
       "      <td>Istanbul</td>\n",
       "      <td>None</td>\n",
       "      <td>Turkey</td>\n",
       "      <td>745044</td>\n",
       "    </tr>\n",
       "    <tr>\n",
       "      <th>71</th>\n",
       "      <td>57502794</td>\n",
       "      <td>federal reserve bank of philadelphia</td>\n",
       "      <td>Federal Reserve Bank of Philadelphia</td>\n",
       "      <td>federalreservebankofphiladelph ia</td>\n",
       "      <td>02gsb6172</td>\n",
       "      <td>Philadelphia</td>\n",
       "      <td>Pennsylvania</td>\n",
       "      <td>United States</td>\n",
       "      <td>4560349</td>\n",
       "    </tr>\n",
       "    <tr>\n",
       "      <th>78</th>\n",
       "      <td>4210111729</td>\n",
       "      <td>nia association</td>\n",
       "      <td>Nia Association</td>\n",
       "      <td>niaassociation</td>\n",
       "      <td>01srqm736</td>\n",
       "      <td>Clarksville</td>\n",
       "      <td>Tennessee</td>\n",
       "      <td>United States</td>\n",
       "      <td>4613868</td>\n",
       "    </tr>\n",
       "    <tr>\n",
       "      <th>32</th>\n",
       "      <td>4210149705</td>\n",
       "      <td>instituto de medicina tropical pedro kour</td>\n",
       "      <td>Instituto de Medicina Tropical “Pedro Kourí”</td>\n",
       "      <td>institutodemedicinatropical“pe drokouri”</td>\n",
       "      <td>05a9hae73</td>\n",
       "      <td>Havana</td>\n",
       "      <td>None</td>\n",
       "      <td>Cuba</td>\n",
       "      <td>3553478</td>\n",
       "    </tr>\n",
       "    <tr>\n",
       "      <th>272</th>\n",
       "      <td>2801384261</td>\n",
       "      <td>north central texas council of governments</td>\n",
       "      <td>North Central Texas Council of Governments</td>\n",
       "      <td>northcentraltexascouncilofgove rnments</td>\n",
       "      <td>05se67h97</td>\n",
       "      <td>Arlington</td>\n",
       "      <td>Texas</td>\n",
       "      <td>United States</td>\n",
       "      <td>4671240</td>\n",
       "    </tr>\n",
       "    <tr>\n",
       "      <th>851</th>\n",
       "      <td>4210096048</td>\n",
       "      <td>orkla</td>\n",
       "      <td>Orkla</td>\n",
       "      <td>orkla</td>\n",
       "      <td>00shfde47</td>\n",
       "      <td>Eslöv</td>\n",
       "      <td>None</td>\n",
       "      <td>Sweden</td>\n",
       "      <td>2715946</td>\n",
       "    </tr>\n",
       "    <tr>\n",
       "      <th>770</th>\n",
       "      <td>4210101475</td>\n",
       "      <td>centre franois baclesse</td>\n",
       "      <td>Centre François Baclesse</td>\n",
       "      <td>centrefrancoisbaclesse</td>\n",
       "      <td>00mrq0n58</td>\n",
       "      <td>Esch-sur-Alzette</td>\n",
       "      <td>None</td>\n",
       "      <td>Luxembourg</td>\n",
       "      <td>2960596</td>\n",
       "    </tr>\n",
       "  </tbody>\n",
       "</table>\n",
       "</div>"
      ],
      "text/plain": [
       "     affiliation_id                             normalized_name  \\\n",
       "887      4210088821            the milton h erickson foundation   \n",
       "97       4210123785     australian society for medical research   \n",
       "342      4210111689            lega italiana protezione uccelli   \n",
       "897      4210147971                  arnavutky devlet hastanesi   \n",
       "71         57502794        federal reserve bank of philadelphia   \n",
       "78       4210111729                             nia association   \n",
       "32       4210149705   instituto de medicina tropical pedro kour   \n",
       "272      2801384261  north central texas council of governments   \n",
       "851      4210096048                                       orkla   \n",
       "770      4210101475                     centre franois baclesse   \n",
       "\n",
       "                                     display_name  \\\n",
       "887             The Milton H. Erickson Foundation   \n",
       "97        Australian Society for Medical Research   \n",
       "342              Lega Italiana Protezione Uccelli   \n",
       "897                   Arnavutköy Devlet Hastanesi   \n",
       "71           Federal Reserve Bank of Philadelphia   \n",
       "78                                Nia Association   \n",
       "32   Instituto de Medicina Tropical “Pedro Kourí”   \n",
       "272    North Central Texas Council of Governments   \n",
       "851                                         Orkla   \n",
       "770                      Centre François Baclesse   \n",
       "\n",
       "                                   match_name     ror_id              city  \\\n",
       "887              themiltonhericksonfoundation  006gcvq32           Phoenix   \n",
       "97       australiansocietyformedicalres earch  023sa9n23            Sydney   \n",
       "342             legaitalianaprotezioneuccelli  01prxxc82             Parma   \n",
       "897                 arnavutkoydevlethastanesi  03wewq802          Istanbul   \n",
       "71          federalreservebankofphiladelph ia  02gsb6172      Philadelphia   \n",
       "78                             niaassociation  01srqm736       Clarksville   \n",
       "32   institutodemedicinatropical“pe drokouri”  05a9hae73            Havana   \n",
       "272    northcentraltexascouncilofgove rnments  05se67h97         Arlington   \n",
       "851                                     orkla  00shfde47             Eslöv   \n",
       "770                    centrefrancoisbaclesse  00mrq0n58  Esch-sur-Alzette   \n",
       "\n",
       "              region        country geonames_city_id  \n",
       "887          Arizona  United States          5308655  \n",
       "97   New South Wales      Australia          2147714  \n",
       "342             None          Italy          3171457  \n",
       "897             None         Turkey           745044  \n",
       "71      Pennsylvania  United States          4560349  \n",
       "78         Tennessee  United States          4613868  \n",
       "32              None           Cuba          3553478  \n",
       "272            Texas  United States          4671240  \n",
       "851             None         Sweden          2715946  \n",
       "770             None     Luxembourg          2960596  "
      ]
     },
     "execution_count": 107,
     "metadata": {},
     "output_type": "execute_result"
    }
   ],
   "source": [
    "inst.sample(10)"
   ]
  },
  {
   "cell_type": "markdown",
   "id": "2c77125f",
   "metadata": {},
   "source": [
    "#### Affiliations"
   ]
  },
  {
   "cell_type": "markdown",
   "id": "254ae701",
   "metadata": {},
   "source": [
    "* look into \"None\" in original_affiliation"
   ]
  },
  {
   "cell_type": "code",
   "execution_count": 137,
   "id": "2346bdd6",
   "metadata": {},
   "outputs": [],
   "source": [
    "query = \"\"\"select count(*)\n",
    "           from mid.affiliation\"\"\""
   ]
  },
  {
   "cell_type": "code",
   "execution_count": 138,
   "id": "105facd3",
   "metadata": {},
   "outputs": [
    {
     "name": "stdout",
     "output_type": "stream",
     "text": [
      "([572385239],)\n"
     ]
    }
   ],
   "source": [
    "cursor.execute(\"ROLLBACK;\")\n",
    "cursor.execute(query)\n",
    "counts = cursor.fetchall()\n",
    "print(counts)"
   ]
  },
  {
   "cell_type": "code",
   "execution_count": 98,
   "id": "507da4eb",
   "metadata": {},
   "outputs": [],
   "source": [
    "query = \"\"\"select *\n",
    "                 from mid.affiliation\n",
    "                 limit 5\"\"\""
   ]
  },
  {
   "cell_type": "code",
   "execution_count": 99,
   "id": "72426577",
   "metadata": {},
   "outputs": [
    {
     "data": {
      "text/plain": [
       "Index(['paper_id', 'author_id', 'affiliation_id', 'author_sequence_number',\n",
       "       'original_author', 'original_affiliation', 'match_author',\n",
       "       'match_institution_name', 'original_orcid', 'updated_date'],\n",
       "      dtype='object')"
      ]
     },
     "execution_count": 99,
     "metadata": {},
     "output_type": "execute_result"
    }
   ],
   "source": [
    "cursor.execute(\"ROLLBACK;\")\n",
    "cursor.execute(query)\n",
    "affs = cursor.fetch_dataframe()\n",
    "affs.columns"
   ]
  },
  {
   "cell_type": "code",
   "execution_count": 117,
   "id": "71f559f8",
   "metadata": {},
   "outputs": [],
   "source": [
    "query = \"\"\"select paper_id, affiliation_id, original_affiliation,\n",
    "                 match_institution_name\n",
    "                 from mid.affiliation\n",
    "                 order by RANDOM()\n",
    "                 limit 5000\"\"\""
   ]
  },
  {
   "cell_type": "code",
   "execution_count": 118,
   "id": "a0b44610",
   "metadata": {},
   "outputs": [
    {
     "data": {
      "text/plain": [
       "(5000, 4)"
      ]
     },
     "execution_count": 118,
     "metadata": {},
     "output_type": "execute_result"
    }
   ],
   "source": [
    "cursor.execute(\"ROLLBACK;\")\n",
    "cursor.execute(query)\n",
    "affs = cursor.fetch_dataframe()\n",
    "affs['match_institution_name'] = affs['match_institution_name'] \\\n",
    "    .str.wrap(30).str.replace(\"\\n\", \" \")\n",
    "affs.shape"
   ]
  },
  {
   "cell_type": "code",
   "execution_count": 120,
   "id": "643527f2",
   "metadata": {},
   "outputs": [
    {
     "name": "stdout",
     "output_type": "stream",
     "text": [
      "<class 'pandas.core.frame.DataFrame'>\n",
      "RangeIndex: 5000 entries, 0 to 4999\n",
      "Data columns (total 4 columns):\n",
      " #   Column                  Non-Null Count  Dtype  \n",
      "---  ------                  --------------  -----  \n",
      " 0   paper_id                5000 non-null   int64  \n",
      " 1   affiliation_id          2084 non-null   float64\n",
      " 2   original_affiliation    2441 non-null   object \n",
      " 3   match_institution_name  2441 non-null   object \n",
      "dtypes: float64(1), int64(1), object(2)\n",
      "memory usage: 156.4+ KB\n"
     ]
    }
   ],
   "source": [
    "affs.info()"
   ]
  },
  {
   "cell_type": "code",
   "execution_count": 126,
   "id": "56e0712e",
   "metadata": {},
   "outputs": [
    {
     "data": {
      "text/html": [
       "<div>\n",
       "<style scoped>\n",
       "    .dataframe tbody tr th:only-of-type {\n",
       "        vertical-align: middle;\n",
       "    }\n",
       "\n",
       "    .dataframe tbody tr th {\n",
       "        vertical-align: top;\n",
       "    }\n",
       "\n",
       "    .dataframe thead th {\n",
       "        text-align: right;\n",
       "    }\n",
       "</style>\n",
       "<table border=\"1\" class=\"dataframe\">\n",
       "  <thead>\n",
       "    <tr style=\"text-align: right;\">\n",
       "      <th></th>\n",
       "      <th>paper_id</th>\n",
       "      <th>affiliation_id</th>\n",
       "      <th>original_affiliation</th>\n",
       "      <th>match_institution_name</th>\n",
       "    </tr>\n",
       "  </thead>\n",
       "  <tbody>\n",
       "    <tr>\n",
       "      <th>2155</th>\n",
       "      <td>2354872794</td>\n",
       "      <td>NaN</td>\n",
       "      <td>ENN Research and Development Co,Ltd,Langfang 065001,Hebei Province,China)</td>\n",
       "      <td>ennresearchanddevelopmentcoltd langfang065001hebeiprovincechi na</td>\n",
       "    </tr>\n",
       "    <tr>\n",
       "      <th>1827</th>\n",
       "      <td>1503680947</td>\n",
       "      <td>NaN</td>\n",
       "      <td>1Botamedi Inc Jeju  Korea, Republic of</td>\n",
       "      <td>1botamediincjejukorearepublico f</td>\n",
       "    </tr>\n",
       "    <tr>\n",
       "      <th>2321</th>\n",
       "      <td>2164871547</td>\n",
       "      <td>NaN</td>\n",
       "      <td>Christie Hospital, Manchester, United Kingdom</td>\n",
       "      <td>christiehospitalmanchesterunit edkingdom</td>\n",
       "    </tr>\n",
       "    <tr>\n",
       "      <th>1106</th>\n",
       "      <td>2126938246</td>\n",
       "      <td>NaN</td>\n",
       "      <td>Department of Obstetrics and Gynecology, Kaizuka City Hospital, 3-10-20, Hori, Kaiduka, Osaka 597-0015, Japan</td>\n",
       "      <td>departmentofobstetricsandgynec ologykaizukacityhospital31020h orikaidukaosaka5970015japan</td>\n",
       "    </tr>\n",
       "    <tr>\n",
       "      <th>1962</th>\n",
       "      <td>2044884715</td>\n",
       "      <td>NaN</td>\n",
       "      <td>Smur, service urgences, centre hospitalier de Montélimar, Montélimar, France</td>\n",
       "      <td>smurserviceurgencescentrehospi talierdemontelimarmontelimarfr ance</td>\n",
       "    </tr>\n",
       "    <tr>\n",
       "      <th>3183</th>\n",
       "      <td>2485061009</td>\n",
       "      <td>NaN</td>\n",
       "      <td>BioNTech RNA Pharmaceuticals GmbH, Mainz, Germany;</td>\n",
       "      <td>biontechrnapharmaceuticalsgmbh mainzgermany</td>\n",
       "    </tr>\n",
       "    <tr>\n",
       "      <th>4319</th>\n",
       "      <td>2801886384</td>\n",
       "      <td>NaN</td>\n",
       "      <td>Institute of Diagnostic and Interventional Radiology, Raemistrasse, Zurich, Switzerland.</td>\n",
       "      <td>instituteofdiagnosticandinterv entionalradiologyraemistrassez urichswitzerland</td>\n",
       "    </tr>\n",
       "    <tr>\n",
       "      <th>4177</th>\n",
       "      <td>3133891541</td>\n",
       "      <td>NaN</td>\n",
       "      <td>Department of Biochemistry and Genetics, University Hospital Angers, Angers, France.</td>\n",
       "      <td>departmentofbiochemistryandgen eticsuniversityhospitalangersa ngersfrance</td>\n",
       "    </tr>\n",
       "    <tr>\n",
       "      <th>733</th>\n",
       "      <td>2972141424</td>\n",
       "      <td>NaN</td>\n",
       "      <td>Санкт-Петербургский государственный институт культуры</td>\n",
       "      <td>санктпетербургскийгосударствен ныйинституткультуры</td>\n",
       "    </tr>\n",
       "    <tr>\n",
       "      <th>575</th>\n",
       "      <td>2058243979</td>\n",
       "      <td>NaN</td>\n",
       "      <td>Rheumatology Department, Mongi Slim Hospital, La Marsa, Tunis, Tunisia.</td>\n",
       "      <td>rheumatologydepartmentmongisli mhospitallamarsatunistunisia</td>\n",
       "    </tr>\n",
       "  </tbody>\n",
       "</table>\n",
       "</div>"
      ],
      "text/plain": [
       "        paper_id  affiliation_id  \\\n",
       "2155  2354872794             NaN   \n",
       "1827  1503680947             NaN   \n",
       "2321  2164871547             NaN   \n",
       "1106  2126938246             NaN   \n",
       "1962  2044884715             NaN   \n",
       "3183  2485061009             NaN   \n",
       "4319  2801886384             NaN   \n",
       "4177  3133891541             NaN   \n",
       "733   2972141424             NaN   \n",
       "575   2058243979             NaN   \n",
       "\n",
       "                                                                                               original_affiliation  \\\n",
       "2155                                      ENN Research and Development Co,Ltd,Langfang 065001,Hebei Province,China)   \n",
       "1827                                                                         1Botamedi Inc Jeju  Korea, Republic of   \n",
       "2321                                                                  Christie Hospital, Manchester, United Kingdom   \n",
       "1106  Department of Obstetrics and Gynecology, Kaizuka City Hospital, 3-10-20, Hori, Kaiduka, Osaka 597-0015, Japan   \n",
       "1962                                   Smur, service urgences, centre hospitalier de Montélimar, Montélimar, France   \n",
       "3183                                                             BioNTech RNA Pharmaceuticals GmbH, Mainz, Germany;   \n",
       "4319                       Institute of Diagnostic and Interventional Radiology, Raemistrasse, Zurich, Switzerland.   \n",
       "4177                           Department of Biochemistry and Genetics, University Hospital Angers, Angers, France.   \n",
       "733                                                           Санкт-Петербургский государственный институт культуры   \n",
       "575                                         Rheumatology Department, Mongi Slim Hospital, La Marsa, Tunis, Tunisia.   \n",
       "\n",
       "                                                                         match_institution_name  \n",
       "2155                           ennresearchanddevelopmentcoltd langfang065001hebeiprovincechi na  \n",
       "1827                                                           1botamediincjejukorearepublico f  \n",
       "2321                                                   christiehospitalmanchesterunit edkingdom  \n",
       "1106  departmentofobstetricsandgynec ologykaizukacityhospital31020h orikaidukaosaka5970015japan  \n",
       "1962                         smurserviceurgencescentrehospi talierdemontelimarmontelimarfr ance  \n",
       "3183                                                biontechrnapharmaceuticalsgmbh mainzgermany  \n",
       "4319             instituteofdiagnosticandinterv entionalradiologyraemistrassez urichswitzerland  \n",
       "4177                  departmentofbiochemistryandgen eticsuniversityhospitalangersa ngersfrance  \n",
       "733                                          санктпетербургскийгосударствен ныйинституткультуры  \n",
       "575                                 rheumatologydepartmentmongisli mhospitallamarsatunistunisia  "
      ]
     },
     "execution_count": 126,
     "metadata": {},
     "output_type": "execute_result"
    }
   ],
   "source": [
    "affs[(affs['affiliation_id'].isnull()) & (affs['original_affiliation'].notnull())].sample(10)"
   ]
  },
  {
   "cell_type": "code",
   "execution_count": 121,
   "id": "21fc61ef",
   "metadata": {},
   "outputs": [
    {
     "data": {
      "text/html": [
       "<div>\n",
       "<style scoped>\n",
       "    .dataframe tbody tr th:only-of-type {\n",
       "        vertical-align: middle;\n",
       "    }\n",
       "\n",
       "    .dataframe tbody tr th {\n",
       "        vertical-align: top;\n",
       "    }\n",
       "\n",
       "    .dataframe thead th {\n",
       "        text-align: right;\n",
       "    }\n",
       "</style>\n",
       "<table border=\"1\" class=\"dataframe\">\n",
       "  <thead>\n",
       "    <tr style=\"text-align: right;\">\n",
       "      <th></th>\n",
       "      <th>paper_id</th>\n",
       "      <th>affiliation_id</th>\n",
       "      <th>original_affiliation</th>\n",
       "      <th>match_institution_name</th>\n",
       "    </tr>\n",
       "  </thead>\n",
       "  <tbody>\n",
       "    <tr>\n",
       "      <th>1196</th>\n",
       "      <td>2385187575</td>\n",
       "      <td>NaN</td>\n",
       "      <td>gang</td>\n",
       "      <td>gang</td>\n",
       "    </tr>\n",
       "    <tr>\n",
       "      <th>2903</th>\n",
       "      <td>3207489005</td>\n",
       "      <td>62916508.0</td>\n",
       "      <td>Soil Science, TUM School of Life Sciences Weihenstephan, Technical University of Munich, Germany</td>\n",
       "      <td>soilsciencetumschooloflifescie ncesweihenstephantechnicaluniv ersityofmunichgermany</td>\n",
       "    </tr>\n",
       "    <tr>\n",
       "      <th>2034</th>\n",
       "      <td>1999274218</td>\n",
       "      <td>NaN</td>\n",
       "      <td>None</td>\n",
       "      <td>None</td>\n",
       "    </tr>\n",
       "    <tr>\n",
       "      <th>1822</th>\n",
       "      <td>2887751214</td>\n",
       "      <td>11957088.0</td>\n",
       "      <td>Department of Mechanical#N#Engineering-Engineering Mechanics,#N#Michigan Technological University,#N#Houghton, MI 49931#N#e-mail:</td>\n",
       "      <td>departmentofmechanicalnenginee ringengineeringmechanicsnmichi gantechnologicaluniversitynhou ghtonmi49931nemail</td>\n",
       "    </tr>\n",
       "    <tr>\n",
       "      <th>2940</th>\n",
       "      <td>1896086024</td>\n",
       "      <td>NaN</td>\n",
       "      <td>None</td>\n",
       "      <td>None</td>\n",
       "    </tr>\n",
       "    <tr>\n",
       "      <th>4162</th>\n",
       "      <td>1901899655</td>\n",
       "      <td>NaN</td>\n",
       "      <td>None</td>\n",
       "      <td>None</td>\n",
       "    </tr>\n",
       "    <tr>\n",
       "      <th>1036</th>\n",
       "      <td>3096175811</td>\n",
       "      <td>200845125.0</td>\n",
       "      <td>[School of Computer and Software, Nanjing University of Information Science and Technology, Nanjing, China,]</td>\n",
       "      <td>schoolofcomputerandsoftwarenan jinguniversityofinformationsci enceandtechnologynanjingchina</td>\n",
       "    </tr>\n",
       "    <tr>\n",
       "      <th>191</th>\n",
       "      <td>1985392771</td>\n",
       "      <td>103320735.0</td>\n",
       "      <td>Istituto di Chimica Agraria ed Ambientale, Centro di Ricerche Biotecnologiche, Università Cattolica del Sacro Cuore, Via Milano 24, 26100 Cremona, Italy</td>\n",
       "      <td>istitutodichimicaagrariaedambi entalecentrodiricerchebiotecno logicheuniversitacattolicadels acrocuoreviamilano2426100cremo naitaly</td>\n",
       "    </tr>\n",
       "    <tr>\n",
       "      <th>3829</th>\n",
       "      <td>582996075</td>\n",
       "      <td>NaN</td>\n",
       "      <td>None</td>\n",
       "      <td>None</td>\n",
       "    </tr>\n",
       "    <tr>\n",
       "      <th>3906</th>\n",
       "      <td>1491291407</td>\n",
       "      <td>NaN</td>\n",
       "      <td>None</td>\n",
       "      <td>None</td>\n",
       "    </tr>\n",
       "  </tbody>\n",
       "</table>\n",
       "</div>"
      ],
      "text/plain": [
       "        paper_id  affiliation_id  \\\n",
       "1196  2385187575             NaN   \n",
       "2903  3207489005      62916508.0   \n",
       "2034  1999274218             NaN   \n",
       "1822  2887751214      11957088.0   \n",
       "2940  1896086024             NaN   \n",
       "4162  1901899655             NaN   \n",
       "1036  3096175811     200845125.0   \n",
       "191   1985392771     103320735.0   \n",
       "3829   582996075             NaN   \n",
       "3906  1491291407             NaN   \n",
       "\n",
       "                                                                                                                                          original_affiliation  \\\n",
       "1196                                                                                                                                                      gang   \n",
       "2903                                                          Soil Science, TUM School of Life Sciences Weihenstephan, Technical University of Munich, Germany   \n",
       "2034                                                                                                                                                      None   \n",
       "1822                         Department of Mechanical#N#Engineering-Engineering Mechanics,#N#Michigan Technological University,#N#Houghton, MI 49931#N#e-mail:   \n",
       "2940                                                                                                                                                      None   \n",
       "4162                                                                                                                                                      None   \n",
       "1036                                              [School of Computer and Software, Nanjing University of Information Science and Technology, Nanjing, China,]   \n",
       "191   Istituto di Chimica Agraria ed Ambientale, Centro di Ricerche Biotecnologiche, Università Cattolica del Sacro Cuore, Via Milano 24, 26100 Cremona, Italy   \n",
       "3829                                                                                                                                                      None   \n",
       "3906                                                                                                                                                      None   \n",
       "\n",
       "                                                                                                                   match_institution_name  \n",
       "1196                                                                                                                                 gang  \n",
       "2903                                                  soilsciencetumschooloflifescie ncesweihenstephantechnicaluniv ersityofmunichgermany  \n",
       "2034                                                                                                                                 None  \n",
       "1822                      departmentofmechanicalnenginee ringengineeringmechanicsnmichi gantechnologicaluniversitynhou ghtonmi49931nemail  \n",
       "2940                                                                                                                                 None  \n",
       "4162                                                                                                                                 None  \n",
       "1036                                          schoolofcomputerandsoftwarenan jinguniversityofinformationsci enceandtechnologynanjingchina  \n",
       "191   istitutodichimicaagrariaedambi entalecentrodiricerchebiotecno logicheuniversitacattolicadels acrocuoreviamilano2426100cremo naitaly  \n",
       "3829                                                                                                                                 None  \n",
       "3906                                                                                                                                 None  "
      ]
     },
     "execution_count": 121,
     "metadata": {},
     "output_type": "execute_result"
    }
   ],
   "source": [
    "affs.sample(10)"
   ]
  },
  {
   "cell_type": "markdown",
   "id": "61420fda",
   "metadata": {},
   "source": [
    "#### Looking at Specific Paper"
   ]
  },
  {
   "cell_type": "code",
   "execution_count": 93,
   "id": "36051de7",
   "metadata": {},
   "outputs": [],
   "source": [
    "query = \"\"\"select a.paper_id, a.affiliation_id, a.original_affiliation,\n",
    "                 a.match_institution_name, b.normalized_name, b.display_name, \n",
    "                 b.match_name, b.ror_id, b.city, b.region, b.country, b.geonames_city_id\n",
    "            from(select paper_id, affiliation_id, original_affiliation,\n",
    "                 match_institution_name\n",
    "                 from mid.affiliation \n",
    "                 where paper_id = 3127589655) a\n",
    "            left join (select affiliation_id, normalized_name,display_name, \n",
    "                       match_name, ror_id, city, region, country, geonames_city_id\n",
    "                       from mid.institution) b\n",
    "           on a.affiliation_id=b.affiliation_id\"\"\""
   ]
  },
  {
   "cell_type": "code",
   "execution_count": 94,
   "id": "76fa5aa6",
   "metadata": {},
   "outputs": [],
   "source": [
    "cursor.execute(\"ROLLBACK;\")\n",
    "cursor.execute(query)\n",
    "test_df = cursor.fetch_dataframe()\n",
    "test_df.shape\n",
    "test_df['match_institution_name'] = test_df['match_institution_name'] \\\n",
    "    .str.wrap(30).str.replace(\"\\n\", \" \")\n",
    "test_df['match_name'] = test_df['match_name'] \\\n",
    "    .str.wrap(30).str.replace(\"\\n\", \" \")"
   ]
  },
  {
   "cell_type": "code",
   "execution_count": 95,
   "id": "ffcf0858",
   "metadata": {},
   "outputs": [
    {
     "data": {
      "text/html": [
       "<div>\n",
       "<style scoped>\n",
       "    .dataframe tbody tr th:only-of-type {\n",
       "        vertical-align: middle;\n",
       "    }\n",
       "\n",
       "    .dataframe tbody tr th {\n",
       "        vertical-align: top;\n",
       "    }\n",
       "\n",
       "    .dataframe thead th {\n",
       "        text-align: right;\n",
       "    }\n",
       "</style>\n",
       "<table border=\"1\" class=\"dataframe\">\n",
       "  <thead>\n",
       "    <tr style=\"text-align: right;\">\n",
       "      <th></th>\n",
       "      <th>paper_id</th>\n",
       "      <th>affiliation_id</th>\n",
       "      <th>original_affiliation</th>\n",
       "      <th>match_institution_name</th>\n",
       "      <th>normalized_name</th>\n",
       "      <th>display_name</th>\n",
       "      <th>match_name</th>\n",
       "      <th>ror_id</th>\n",
       "      <th>city</th>\n",
       "      <th>region</th>\n",
       "      <th>country</th>\n",
       "      <th>geonames_city_id</th>\n",
       "    </tr>\n",
       "  </thead>\n",
       "  <tbody>\n",
       "    <tr>\n",
       "      <th>0</th>\n",
       "      <td>3127589655</td>\n",
       "      <td>1320721754</td>\n",
       "      <td>Observation and Research Station of the Land Use and Ecological Succession in Huanghuaihai Coal Mining Area, Ministry of Natural Resources, Xuzhou, China</td>\n",
       "      <td>observationandresearchstationo fthelanduseandecologicalsucces sioninhuanghuaihaicoalminingar eaministryofnaturalresourcesxu zhouchina</td>\n",
       "      <td>ministry of natural resources and forestry</td>\n",
       "      <td>Ministry of Natural Resources and Forestry</td>\n",
       "      <td>ministryofnaturalresourcesandf orestry</td>\n",
       "      <td>02ntv3742</td>\n",
       "      <td>Peterborough</td>\n",
       "      <td>Ontario</td>\n",
       "      <td>Canada</td>\n",
       "      <td>6101645</td>\n",
       "    </tr>\n",
       "    <tr>\n",
       "      <th>5</th>\n",
       "      <td>3127589655</td>\n",
       "      <td>25757504</td>\n",
       "      <td>School of Environment and Spatial Informatics, China University of Mining and Technology, Xuzhou, China</td>\n",
       "      <td>schoolofenvironmentandspatiali nformaticschinauniversityofmin ingandtechnologyxuzhouchina</td>\n",
       "      <td>china university of mining and technology</td>\n",
       "      <td>China University of Mining and Technology</td>\n",
       "      <td>chinauniversityofminingandtech nology</td>\n",
       "      <td>01xt2dr21</td>\n",
       "      <td>Xuzhou</td>\n",
       "      <td>None</td>\n",
       "      <td>China</td>\n",
       "      <td>10630003</td>\n",
       "    </tr>\n",
       "    <tr>\n",
       "      <th>6</th>\n",
       "      <td>3127589655</td>\n",
       "      <td>1327237609</td>\n",
       "      <td>Engineering Research Center of Ministry of Education for Mine Ecological Restoration, Xuzhou, China</td>\n",
       "      <td>engineeringresearchcenterofmin istryofeducationformineecologi calrestorationxuzhouchina</td>\n",
       "      <td>ministry of education of the peoples republic of china</td>\n",
       "      <td>Ministry of Education of the People's Republic of China</td>\n",
       "      <td>ministryofeducationofthepeople srepublicofchina</td>\n",
       "      <td>01mv9t934</td>\n",
       "      <td>Beijing</td>\n",
       "      <td>None</td>\n",
       "      <td>China</td>\n",
       "      <td>1816670</td>\n",
       "    </tr>\n",
       "  </tbody>\n",
       "</table>\n",
       "</div>"
      ],
      "text/plain": [
       "     paper_id  affiliation_id  \\\n",
       "0  3127589655      1320721754   \n",
       "5  3127589655        25757504   \n",
       "6  3127589655      1327237609   \n",
       "\n",
       "                                                                                                                                        original_affiliation  \\\n",
       "0  Observation and Research Station of the Land Use and Ecological Succession in Huanghuaihai Coal Mining Area, Ministry of Natural Resources, Xuzhou, China   \n",
       "5                                                    School of Environment and Spatial Informatics, China University of Mining and Technology, Xuzhou, China   \n",
       "6                                                        Engineering Research Center of Ministry of Education for Mine Ecological Restoration, Xuzhou, China   \n",
       "\n",
       "                                                                                                                  match_institution_name  \\\n",
       "0  observationandresearchstationo fthelanduseandecologicalsucces sioninhuanghuaihaicoalminingar eaministryofnaturalresourcesxu zhouchina   \n",
       "5                                              schoolofenvironmentandspatiali nformaticschinauniversityofmin ingandtechnologyxuzhouchina   \n",
       "6                                                engineeringresearchcenterofmin istryofeducationformineecologi calrestorationxuzhouchina   \n",
       "\n",
       "                                          normalized_name  \\\n",
       "0              ministry of natural resources and forestry   \n",
       "5               china university of mining and technology   \n",
       "6  ministry of education of the peoples republic of china   \n",
       "\n",
       "                                              display_name  \\\n",
       "0               Ministry of Natural Resources and Forestry   \n",
       "5                China University of Mining and Technology   \n",
       "6  Ministry of Education of the People's Republic of China   \n",
       "\n",
       "                                        match_name     ror_id          city  \\\n",
       "0           ministryofnaturalresourcesandf orestry  02ntv3742  Peterborough   \n",
       "5            chinauniversityofminingandtech nology  01xt2dr21        Xuzhou   \n",
       "6  ministryofeducationofthepeople srepublicofchina  01mv9t934       Beijing   \n",
       "\n",
       "    region country geonames_city_id  \n",
       "0  Ontario  Canada          6101645  \n",
       "5     None   China         10630003  \n",
       "6     None   China          1816670  "
      ]
     },
     "execution_count": 95,
     "metadata": {},
     "output_type": "execute_result"
    }
   ],
   "source": [
    "test_df.drop_duplicates(subset=['affiliation_id']).head(10)"
   ]
  },
  {
   "cell_type": "markdown",
   "id": "ca48a94c",
   "metadata": {},
   "source": [
    "#### Joining raw and cleaned data"
   ]
  },
  {
   "cell_type": "code",
   "execution_count": 110,
   "id": "8b87bd78",
   "metadata": {},
   "outputs": [],
   "source": [
    "query = \"\"\"select a.paper_id, a.affiliation_id, a.original_affiliation,\n",
    "                 a.match_institution_name, b.normalized_name, b.display_name, \n",
    "                 b.match_name, b.ror_id, b.city, b.region, b.country, b.geonames_city_id\n",
    "            from(select paper_id, affiliation_id, original_affiliation,\n",
    "                 match_institution_name\n",
    "                 from mid.affiliation \n",
    "                 where affiliation_id is not null\n",
    "                 order by RANDOM()\n",
    "                 limit 100000) a\n",
    "            left join (select affiliation_id, normalized_name,display_name, \n",
    "                       match_name, ror_id, city, region, country, geonames_city_id\n",
    "                       from mid.institution) b\n",
    "           on a.affiliation_id=b.affiliation_id\"\"\""
   ]
  },
  {
   "cell_type": "code",
   "execution_count": 111,
   "id": "64401965",
   "metadata": {},
   "outputs": [],
   "source": [
    "cursor.execute(\"ROLLBACK;\")\n",
    "cursor.execute(query)\n",
    "joined_df = cursor.fetch_dataframe()\n",
    "joined_df.shape\n",
    "joined_df['match_institution_name'] = joined_df['match_institution_name'] \\\n",
    "    .str.wrap(30).str.replace(\"\\n\", \" \")\n",
    "joined_df['match_name'] = joined_df['match_name'] \\\n",
    "    .str.wrap(30).str.replace(\"\\n\", \" \")"
   ]
  },
  {
   "cell_type": "code",
   "execution_count": 112,
   "id": "8a1e6794",
   "metadata": {},
   "outputs": [
    {
     "data": {
      "text/plain": [
       "(100000, 12)"
      ]
     },
     "execution_count": 112,
     "metadata": {},
     "output_type": "execute_result"
    }
   ],
   "source": [
    "joined_df.shape"
   ]
  },
  {
   "cell_type": "code",
   "execution_count": 113,
   "id": "d60be241",
   "metadata": {},
   "outputs": [
    {
     "name": "stdout",
     "output_type": "stream",
     "text": [
      "<class 'pandas.core.frame.DataFrame'>\n",
      "RangeIndex: 100000 entries, 0 to 99999\n",
      "Data columns (total 12 columns):\n",
      " #   Column                  Non-Null Count   Dtype \n",
      "---  ------                  --------------   ----- \n",
      " 0   paper_id                100000 non-null  int64 \n",
      " 1   affiliation_id          100000 non-null  int64 \n",
      " 2   original_affiliation    95178 non-null   object\n",
      " 3   match_institution_name  95178 non-null   object\n",
      " 4   normalized_name         100000 non-null  object\n",
      " 5   display_name            100000 non-null  object\n",
      " 6   match_name              100000 non-null  object\n",
      " 7   ror_id                  96835 non-null   object\n",
      " 8   city                    96835 non-null   object\n",
      " 9   region                  44402 non-null   object\n",
      " 10  country                 96835 non-null   object\n",
      " 11  geonames_city_id        96831 non-null   object\n",
      "dtypes: int64(2), object(10)\n",
      "memory usage: 9.2+ MB\n"
     ]
    }
   ],
   "source": [
    "joined_df.info()"
   ]
  },
  {
   "cell_type": "code",
   "execution_count": 153,
   "id": "1c0c046f",
   "metadata": {},
   "outputs": [
    {
     "data": {
      "text/html": [
       "<div>\n",
       "<style scoped>\n",
       "    .dataframe tbody tr th:only-of-type {\n",
       "        vertical-align: middle;\n",
       "    }\n",
       "\n",
       "    .dataframe tbody tr th {\n",
       "        vertical-align: top;\n",
       "    }\n",
       "\n",
       "    .dataframe thead th {\n",
       "        text-align: right;\n",
       "    }\n",
       "</style>\n",
       "<table border=\"1\" class=\"dataframe\">\n",
       "  <thead>\n",
       "    <tr style=\"text-align: right;\">\n",
       "      <th></th>\n",
       "      <th>paper_id</th>\n",
       "      <th>affiliation_id</th>\n",
       "      <th>original_affiliation</th>\n",
       "      <th>match_institution_name</th>\n",
       "      <th>normalized_name</th>\n",
       "      <th>display_name</th>\n",
       "      <th>match_name</th>\n",
       "      <th>ror_id</th>\n",
       "      <th>city</th>\n",
       "      <th>region</th>\n",
       "      <th>country</th>\n",
       "      <th>geonames_city_id</th>\n",
       "    </tr>\n",
       "  </thead>\n",
       "  <tbody>\n",
       "    <tr>\n",
       "      <th>75856</th>\n",
       "      <td>2104299732</td>\n",
       "      <td>168416876</td>\n",
       "      <td>YUSHI LI, PhD, is an assistant professor of sociology at Northern Kentucky University in Highland Heights. GABRIEL ROGERS is a student and research assistant at the university</td>\n",
       "      <td>yushiliphdisanassistantprofess orofsociologyatnorthernkentuck yuniversityinhighlandheightsga brielrogersisastudentandresear chassistantattheuniversity</td>\n",
       "      <td>northern kentucky university</td>\n",
       "      <td>Northern Kentucky University</td>\n",
       "      <td>northernkentuckyuniversity</td>\n",
       "      <td>01k44g025</td>\n",
       "      <td>Highland Heights</td>\n",
       "      <td>Kentucky</td>\n",
       "      <td>United States</td>\n",
       "      <td>4294788</td>\n",
       "    </tr>\n",
       "    <tr>\n",
       "      <th>95768</th>\n",
       "      <td>3191213008</td>\n",
       "      <td>151201029</td>\n",
       "      <td>Laboratorio de Biomateriales, Biomecánica y Bioinstrumentación, Instituto de Tecnologías Emergentes y Ciencias Aplicadas (ITECA), UNSAM‐CONICET Escuela de Ciencia y Tecnología  San Martín Provincia de Buenos Aires Argentina</td>\n",
       "      <td>laboratoriodebiomaterialesbiom ecanicaybioinstrumentacioninst itutodetecnologiasemergentesyc ienciasaplicadasitecaunsam‐con icetescueladecienciaytecnologi asanmartinprovinciadebuenosair esargentina</td>\n",
       "      <td>national scientific and technical research council</td>\n",
       "      <td>National Scientific and Technical Research Council</td>\n",
       "      <td>nationalscientificandtechnical researchcouncil</td>\n",
       "      <td>03cqe8w59</td>\n",
       "      <td>Buenos Aires</td>\n",
       "      <td>None</td>\n",
       "      <td>Argentina</td>\n",
       "      <td>3435910</td>\n",
       "    </tr>\n",
       "    <tr>\n",
       "      <th>91412</th>\n",
       "      <td>2029662228</td>\n",
       "      <td>1322918889</td>\n",
       "      <td>Metabolic Section, Veterans Administration Hospital, Hines, Illinois, and Division of Environmental Studies, Environmental Measurements Laboratory, Department of Energy, New York, New York</td>\n",
       "      <td>metabolicsectionveteransadmini strationhospitalhinesillinoisa nddivisionofenvironmentalstudi esenvironmentalmeasurementslab oratorydepartmentofenergynewyo rknewyork</td>\n",
       "      <td>united states department of veterans affairs</td>\n",
       "      <td>United States Department of Veterans Affairs</td>\n",
       "      <td>unitedstatesdepartmentofvetera nsaffairs</td>\n",
       "      <td>05rsv9s98</td>\n",
       "      <td>Washington D.C.</td>\n",
       "      <td>District of Columbia</td>\n",
       "      <td>United States</td>\n",
       "      <td>4140963</td>\n",
       "    </tr>\n",
       "    <tr>\n",
       "      <th>33112</th>\n",
       "      <td>2889879239</td>\n",
       "      <td>76835614</td>\n",
       "      <td>University of Missouri School of Med.</td>\n",
       "      <td>universityofmissourischoolofme d</td>\n",
       "      <td>university of missouri</td>\n",
       "      <td>University of Missouri</td>\n",
       "      <td>universityofmissouri</td>\n",
       "      <td>02ymw8z06</td>\n",
       "      <td>Columbia</td>\n",
       "      <td>Missouri</td>\n",
       "      <td>United States</td>\n",
       "      <td>4381982</td>\n",
       "    </tr>\n",
       "    <tr>\n",
       "      <th>81837</th>\n",
       "      <td>2162860019</td>\n",
       "      <td>47720641</td>\n",
       "      <td>Department of Control Science &amp; Engineering, Huazhong University of Science and Technology, Wuhan, Hubei, 430074, P.R. China</td>\n",
       "      <td>departmentofcontrolscienceengi neeringhuazhonguniversityofsci enceandtechnologywuhanhubei430 074prchina</td>\n",
       "      <td>huazhong university of science and technology</td>\n",
       "      <td>Huazhong University of Science and Technology</td>\n",
       "      <td>huazhonguniversityofscienceand technology</td>\n",
       "      <td>00p991c53</td>\n",
       "      <td>Wuhan</td>\n",
       "      <td>None</td>\n",
       "      <td>China</td>\n",
       "      <td>1791247</td>\n",
       "    </tr>\n",
       "    <tr>\n",
       "      <th>93329</th>\n",
       "      <td>1964312519</td>\n",
       "      <td>142476485</td>\n",
       "      <td>Ecole Polytechnique de Tunisie</td>\n",
       "      <td>ecolepolytechniquedetunisie</td>\n",
       "      <td>cole polytechnique</td>\n",
       "      <td>École Polytechnique</td>\n",
       "      <td>ecolepolytechnique</td>\n",
       "      <td>05hy3tk52</td>\n",
       "      <td>Palaiseau</td>\n",
       "      <td>None</td>\n",
       "      <td>France</td>\n",
       "      <td>2988758</td>\n",
       "    </tr>\n",
       "    <tr>\n",
       "      <th>28013</th>\n",
       "      <td>1884561001</td>\n",
       "      <td>1281735042</td>\n",
       "      <td>Natural Resources Canada, Canadian Forest Service - Atlantic Forestry Centre, P.O. Box 4000, Fredericton, New Brunswick, Canada E3B 5P7</td>\n",
       "      <td>naturalresourcescanadacanadian forestserviceatlanticforestryc entrepobox4000frederictonnewbr unswickcanadae3b5p7</td>\n",
       "      <td>natural resources canada</td>\n",
       "      <td>Natural Resources Canada</td>\n",
       "      <td>naturalresourcescanada</td>\n",
       "      <td>05hepy730</td>\n",
       "      <td>Ottawa</td>\n",
       "      <td>Ontario</td>\n",
       "      <td>Canada</td>\n",
       "      <td>6094817</td>\n",
       "    </tr>\n",
       "    <tr>\n",
       "      <th>51688</th>\n",
       "      <td>2954928385</td>\n",
       "      <td>200777214</td>\n",
       "      <td>Second Department of Anesthesiology, Medical School, National and Kapodistrian University of Athens, Athens, Greece -</td>\n",
       "      <td>seconddepartmentofanesthesiolo gymedicalschoolnationalandkapo distrianuniversityofathensathe nsgreece</td>\n",
       "      <td>national and kapodistrian university of athens</td>\n",
       "      <td>National and Kapodistrian University of Athens</td>\n",
       "      <td>nationalandkapodistrianunivers ityofathens</td>\n",
       "      <td>04gnjpq42</td>\n",
       "      <td>Athens</td>\n",
       "      <td>Attiki</td>\n",
       "      <td>Greece</td>\n",
       "      <td>264371</td>\n",
       "    </tr>\n",
       "    <tr>\n",
       "      <th>29100</th>\n",
       "      <td>2911589620</td>\n",
       "      <td>2801269068</td>\n",
       "      <td>Chemistry Branch, Science and Advice for Scottish Agriculture (SASA), Roddinglaw Road, (SASA is a Scientific Division of the Scottish Government Agriculture, Rural and Economy Directorate), Edinburgh, Scotland, UK</td>\n",
       "      <td>chemistrybranchscienceandadvic eforscottishagriculturesasarod dinglawroadsasaisascientificdi visionofthescottishgovernmenta gricultureruralandeconomydirec torateedinburghscotlanduk</td>\n",
       "      <td>scottish government</td>\n",
       "      <td>Scottish Government</td>\n",
       "      <td>scottishgovernment</td>\n",
       "      <td>04v2xmd71</td>\n",
       "      <td>Edinburgh</td>\n",
       "      <td>Scotland</td>\n",
       "      <td>United Kingdom</td>\n",
       "      <td>2650225</td>\n",
       "    </tr>\n",
       "    <tr>\n",
       "      <th>2727</th>\n",
       "      <td>3101506975</td>\n",
       "      <td>172901346</td>\n",
       "      <td>Astronomical Institute of St. Petersburg State University, 198904 St. Petersburg, Russia</td>\n",
       "      <td>astronomicalinstituteofstpeter sburgstateuniversity198904stpe tersburgrussia</td>\n",
       "      <td>st petersburg university</td>\n",
       "      <td>St Petersburg University</td>\n",
       "      <td>stpetersburguniversity</td>\n",
       "      <td>023znxa73</td>\n",
       "      <td>Saint Petersburg</td>\n",
       "      <td>None</td>\n",
       "      <td>Russia</td>\n",
       "      <td>498817</td>\n",
       "    </tr>\n",
       "  </tbody>\n",
       "</table>\n",
       "</div>"
      ],
      "text/plain": [
       "         paper_id  affiliation_id  \\\n",
       "75856  2104299732       168416876   \n",
       "95768  3191213008       151201029   \n",
       "91412  2029662228      1322918889   \n",
       "33112  2889879239        76835614   \n",
       "81837  2162860019        47720641   \n",
       "93329  1964312519       142476485   \n",
       "28013  1884561001      1281735042   \n",
       "51688  2954928385       200777214   \n",
       "29100  2911589620      2801269068   \n",
       "2727   3101506975       172901346   \n",
       "\n",
       "                                                                                                                                                                                                                  original_affiliation  \\\n",
       "75856                                                  YUSHI LI, PhD, is an assistant professor of sociology at Northern Kentucky University in Highland Heights. GABRIEL ROGERS is a student and research assistant at the university   \n",
       "95768  Laboratorio de Biomateriales, Biomecánica y Bioinstrumentación, Instituto de Tecnologías Emergentes y Ciencias Aplicadas (ITECA), UNSAM‐CONICET Escuela de Ciencia y Tecnología  San Martín Provincia de Buenos Aires Argentina   \n",
       "91412                                     Metabolic Section, Veterans Administration Hospital, Hines, Illinois, and Division of Environmental Studies, Environmental Measurements Laboratory, Department of Energy, New York, New York   \n",
       "33112                                                                                                                                                                                            University of Missouri School of Med.   \n",
       "81837                                                                                                     Department of Control Science & Engineering, Huazhong University of Science and Technology, Wuhan, Hubei, 430074, P.R. China   \n",
       "93329                                                                                                                                                                                                   Ecole Polytechnique de Tunisie   \n",
       "28013                                                                                          Natural Resources Canada, Canadian Forest Service - Atlantic Forestry Centre, P.O. Box 4000, Fredericton, New Brunswick, Canada E3B 5P7   \n",
       "51688                                                                                                            Second Department of Anesthesiology, Medical School, National and Kapodistrian University of Athens, Athens, Greece -   \n",
       "29100            Chemistry Branch, Science and Advice for Scottish Agriculture (SASA), Roddinglaw Road, (SASA is a Scientific Division of the Scottish Government Agriculture, Rural and Economy Directorate), Edinburgh, Scotland, UK   \n",
       "2727                                                                                                                                          Astronomical Institute of St. Petersburg State University, 198904 St. Petersburg, Russia   \n",
       "\n",
       "                                                                                                                                                                                      match_institution_name  \\\n",
       "75856                                                 yushiliphdisanassistantprofess orofsociologyatnorthernkentuck yuniversityinhighlandheightsga brielrogersisastudentandresear chassistantattheuniversity   \n",
       "95768  laboratoriodebiomaterialesbiom ecanicaybioinstrumentacioninst itutodetecnologiasemergentesyc ienciasaplicadasitecaunsam‐con icetescueladecienciaytecnologi asanmartinprovinciadebuenosair esargentina   \n",
       "91412                                   metabolicsectionveteransadmini strationhospitalhinesillinoisa nddivisionofenvironmentalstudi esenvironmentalmeasurementslab oratorydepartmentofenergynewyo rknewyork   \n",
       "33112                                                                                                                                                                       universityofmissourischoolofme d   \n",
       "81837                                                                                                departmentofcontrolscienceengi neeringhuazhonguniversityofsci enceandtechnologywuhanhubei430 074prchina   \n",
       "93329                                                                                                                                                                            ecolepolytechniquedetunisie   \n",
       "28013                                                                                       naturalresourcescanadacanadian forestserviceatlanticforestryc entrepobox4000frederictonnewbr unswickcanadae3b5p7   \n",
       "51688                                                                                                  seconddepartmentofanesthesiolo gymedicalschoolnationalandkapo distrianuniversityofathensathe nsgreece   \n",
       "29100                   chemistrybranchscienceandadvic eforscottishagriculturesasarod dinglawroadsasaisascientificdi visionofthescottishgovernmenta gricultureruralandeconomydirec torateedinburghscotlanduk   \n",
       "2727                                                                                                                            astronomicalinstituteofstpeter sburgstateuniversity198904stpe tersburgrussia   \n",
       "\n",
       "                                          normalized_name  \\\n",
       "75856                        northern kentucky university   \n",
       "95768  national scientific and technical research council   \n",
       "91412        united states department of veterans affairs   \n",
       "33112                              university of missouri   \n",
       "81837       huazhong university of science and technology   \n",
       "93329                                  cole polytechnique   \n",
       "28013                            natural resources canada   \n",
       "51688      national and kapodistrian university of athens   \n",
       "29100                                 scottish government   \n",
       "2727                             st petersburg university   \n",
       "\n",
       "                                             display_name  \\\n",
       "75856                        Northern Kentucky University   \n",
       "95768  National Scientific and Technical Research Council   \n",
       "91412        United States Department of Veterans Affairs   \n",
       "33112                              University of Missouri   \n",
       "81837       Huazhong University of Science and Technology   \n",
       "93329                                 École Polytechnique   \n",
       "28013                            Natural Resources Canada   \n",
       "51688      National and Kapodistrian University of Athens   \n",
       "29100                                 Scottish Government   \n",
       "2727                             St Petersburg University   \n",
       "\n",
       "                                           match_name     ror_id  \\\n",
       "75856                      northernkentuckyuniversity  01k44g025   \n",
       "95768  nationalscientificandtechnical researchcouncil  03cqe8w59   \n",
       "91412        unitedstatesdepartmentofvetera nsaffairs  05rsv9s98   \n",
       "33112                            universityofmissouri  02ymw8z06   \n",
       "81837       huazhonguniversityofscienceand technology  00p991c53   \n",
       "93329                              ecolepolytechnique  05hy3tk52   \n",
       "28013                          naturalresourcescanada  05hepy730   \n",
       "51688      nationalandkapodistrianunivers ityofathens  04gnjpq42   \n",
       "29100                              scottishgovernment  04v2xmd71   \n",
       "2727                           stpetersburguniversity  023znxa73   \n",
       "\n",
       "                   city                region         country geonames_city_id  \n",
       "75856  Highland Heights              Kentucky   United States          4294788  \n",
       "95768      Buenos Aires                  None       Argentina          3435910  \n",
       "91412   Washington D.C.  District of Columbia   United States          4140963  \n",
       "33112          Columbia              Missouri   United States          4381982  \n",
       "81837             Wuhan                  None           China          1791247  \n",
       "93329         Palaiseau                  None          France          2988758  \n",
       "28013            Ottawa               Ontario          Canada          6094817  \n",
       "51688            Athens                Attiki          Greece           264371  \n",
       "29100         Edinburgh              Scotland  United Kingdom          2650225  \n",
       "2727   Saint Petersburg                  None          Russia           498817  "
      ]
     },
     "execution_count": 153,
     "metadata": {},
     "output_type": "execute_result"
    }
   ],
   "source": [
    "joined_df.sample(10)"
   ]
  },
  {
   "cell_type": "markdown",
   "id": "6a70b79d",
   "metadata": {},
   "source": [
    "#### Counting possible training data"
   ]
  },
  {
   "cell_type": "code",
   "execution_count": 173,
   "id": "3bd4dd53",
   "metadata": {},
   "outputs": [],
   "source": [
    "query = \"\"\"select count(*) from (select a.paper_id, a.affiliation_id, a.original_affiliation,\n",
    "                 a.match_institution_name, b.normalized_name, b.display_name, \n",
    "                 b.match_name, b.ror_id, b.city, b.region, b.country, b.geonames_city_id\n",
    "            from(select paper_id, affiliation_id, original_affiliation,\n",
    "                 match_institution_name\n",
    "                 from mid.affiliation \n",
    "                 where affiliation_id is not null) a\n",
    "            left join (select affiliation_id, normalized_name,display_name, \n",
    "                       match_name, ror_id, city, region, country, geonames_city_id\n",
    "                       from mid.institution) b\n",
    "           on a.affiliation_id=b.affiliation_id)\n",
    "           where original_affiliation LIKE CONCAT('%', CONCAT(display_name, '%'))\"\"\""
   ]
  },
  {
   "cell_type": "code",
   "execution_count": 142,
   "id": "a241735c",
   "metadata": {},
   "outputs": [
    {
     "name": "stdout",
     "output_type": "stream",
     "text": [
      "([148595579],)\n"
     ]
    }
   ],
   "source": [
    "cursor.execute(\"ROLLBACK;\")\n",
    "cursor.execute(query)\n",
    "counts = cursor.fetchall()\n",
    "print(counts)"
   ]
  },
  {
   "cell_type": "code",
   "execution_count": 174,
   "id": "7c54eda4",
   "metadata": {},
   "outputs": [],
   "source": [
    "query = \"\"\"select count(*) from (select a.paper_id, a.affiliation_id, a.original_affiliation,\n",
    "                 a.match_institution_name, b.normalized_name, b.display_name, \n",
    "                 b.match_name, b.ror_id, b.city, b.region, b.country, b.geonames_city_id\n",
    "            from(select paper_id, affiliation_id, original_affiliation,\n",
    "                 match_institution_name\n",
    "                 from mid.affiliation \n",
    "                 where affiliation_id is not null) a\n",
    "            left join (select affiliation_id, normalized_name,display_name, \n",
    "                       match_name, ror_id, city, region, country, geonames_city_id\n",
    "                       from mid.institution) b\n",
    "           on a.affiliation_id=b.affiliation_id)\n",
    "           where original_affiliation LIKE CONCAT('%', \n",
    "                                                  CONCAT(split_part(display_name,' ',1), \n",
    "                                                         CONCAT('%', \n",
    "                                                                CONCAT(reverse(split_part(reverse(display_name),' ',1)),'%')))) or\n",
    "                original_affiliation LIKE CONCAT('%', CONCAT(display_name, '%'))\"\"\""
   ]
  },
  {
   "cell_type": "code",
   "execution_count": 175,
   "id": "22fc3abf",
   "metadata": {},
   "outputs": [
    {
     "name": "stdout",
     "output_type": "stream",
     "text": [
      "([167839098],)\n"
     ]
    }
   ],
   "source": [
    "cursor.execute(\"ROLLBACK;\")\n",
    "cursor.execute(query)\n",
    "counts = cursor.fetchall()\n",
    "print(counts)"
   ]
  },
  {
   "cell_type": "code",
   "execution_count": 7,
   "id": "153ba32b",
   "metadata": {},
   "outputs": [],
   "source": [
    "query = \"\"\"select * from (select a.paper_id, a.affiliation_id, a.original_affiliation,\n",
    "                 a.match_institution_name, b.normalized_name, b.display_name, \n",
    "                 b.match_name, b.ror_id, b.city, b.region, b.country, b.geonames_city_id\n",
    "            from(select paper_id, affiliation_id, original_affiliation,\n",
    "                 match_institution_name\n",
    "                 from mid.affiliation \n",
    "                 where affiliation_id is not null) a\n",
    "            left join (select affiliation_id, normalized_name,display_name, \n",
    "                       match_name, ror_id, city, region, country, geonames_city_id\n",
    "                       from mid.institution) b\n",
    "           on a.affiliation_id=b.affiliation_id)\n",
    "           where original_affiliation LIKE CONCAT('%', \n",
    "                                                  CONCAT(split_part(display_name,' ',1), \n",
    "                                                         CONCAT('%', \n",
    "                                                                CONCAT(reverse(split_part(reverse(display_name),' ',1)),'%')))) or\n",
    "                original_affiliation LIKE CONCAT('%', CONCAT(display_name, '%'))\n",
    "            order by RANDOM() \n",
    "            limit 10000\"\"\""
   ]
  },
  {
   "cell_type": "code",
   "execution_count": 8,
   "id": "dd50e467",
   "metadata": {},
   "outputs": [],
   "source": [
    "cursor.execute(\"ROLLBACK;\")\n",
    "cursor.execute(query)\n",
    "training_data = cursor.fetch_dataframe()\n",
    "training_data.shape\n",
    "training_data['match_institution_name'] = training_data['match_institution_name'] \\\n",
    "    .str.wrap(30).str.replace(\"\\n\", \" \")\n",
    "training_data['match_name'] = training_data['match_name'] \\\n",
    "    .str.wrap(30).str.replace(\"\\n\", \" \")"
   ]
  },
  {
   "cell_type": "code",
   "execution_count": 11,
   "id": "f1a3f3d7",
   "metadata": {},
   "outputs": [],
   "source": [
    "training_data['display_name_ind'] = training_data.apply(lambda x: 1 if x.display_name in x.original_affiliation else 0, axis=1)"
   ]
  },
  {
   "cell_type": "code",
   "execution_count": 14,
   "id": "83524c44",
   "metadata": {},
   "outputs": [
    {
     "data": {
      "text/plain": [
       "(1163, 13)"
      ]
     },
     "execution_count": 14,
     "metadata": {},
     "output_type": "execute_result"
    }
   ],
   "source": [
    "training_data[training_data['display_name_ind']==0].shape"
   ]
  },
  {
   "cell_type": "code",
   "execution_count": 15,
   "id": "c5721955",
   "metadata": {},
   "outputs": [
    {
     "data": {
      "text/plain": [
       "(10000, 13)"
      ]
     },
     "execution_count": 15,
     "metadata": {},
     "output_type": "execute_result"
    }
   ],
   "source": [
    "training_data.shape"
   ]
  },
  {
   "cell_type": "code",
   "execution_count": null,
   "id": "a38b0936",
   "metadata": {},
   "outputs": [],
   "source": []
  },
  {
   "cell_type": "code",
   "execution_count": null,
   "id": "a08ce3b0",
   "metadata": {},
   "outputs": [],
   "source": []
  }
 ],
 "metadata": {
  "kernelspec": {
   "display_name": "Python 3 (ipykernel)",
   "language": "python",
   "name": "python3"
  },
  "language_info": {
   "codemirror_mode": {
    "name": "ipython",
    "version": 3
   },
   "file_extension": ".py",
   "mimetype": "text/x-python",
   "name": "python",
   "nbconvert_exporter": "python",
   "pygments_lexer": "ipython3",
   "version": "3.8.11"
  }
 },
 "nbformat": 4,
 "nbformat_minor": 5
}
